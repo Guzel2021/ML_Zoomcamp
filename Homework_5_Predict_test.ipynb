{
 "cells": [
  {
   "cell_type": "code",
   "execution_count": 21,
   "id": "2c92342d-21d1-4f6e-b72d-2ea5f78d2a33",
   "metadata": {},
   "outputs": [],
   "source": [
    "import requests"
   ]
  },
  {
   "cell_type": "code",
   "execution_count": 22,
   "id": "068711dd-6b97-455d-9557-3511122faf5e",
   "metadata": {},
   "outputs": [],
   "source": [
    "url = 'http://localhost:9696/predict'"
   ]
  },
  {
   "cell_type": "code",
   "execution_count": 23,
   "id": "60b91123-4bfc-404a-aeda-4c33fa8c6f13",
   "metadata": {},
   "outputs": [],
   "source": [
    "client = {\"job\": \"student\", \"duration\": 280, \"poutcome\": \"failure\"}"
   ]
  },
  {
   "cell_type": "code",
   "execution_count": 24,
   "id": "98df16b2-74b0-47c1-8d2f-5c18adbba293",
   "metadata": {},
   "outputs": [
    {
     "data": {
      "text/plain": [
       "{'decision': False, 'decision_probability': 0.33480703475511053}"
      ]
     },
     "execution_count": 24,
     "metadata": {},
     "output_type": "execute_result"
    }
   ],
   "source": [
    "requests.post(url, json = client).json()"
   ]
  },
  {
   "cell_type": "code",
   "execution_count": null,
   "id": "6b9bea00-c276-45db-aa5c-e4de89e124b6",
   "metadata": {},
   "outputs": [],
   "source": []
  }
 ],
 "metadata": {
  "kernelspec": {
   "display_name": "Python 3 (ipykernel)",
   "language": "python",
   "name": "python3"
  },
  "language_info": {
   "codemirror_mode": {
    "name": "ipython",
    "version": 3
   },
   "file_extension": ".py",
   "mimetype": "text/x-python",
   "name": "python",
   "nbconvert_exporter": "python",
   "pygments_lexer": "ipython3",
   "version": "3.11.10"
  }
 },
 "nbformat": 4,
 "nbformat_minor": 5
}
