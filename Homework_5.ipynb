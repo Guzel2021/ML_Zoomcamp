{
 "cells": [
  {
   "cell_type": "code",
   "execution_count": 1,
   "id": "58e2b414-71b2-400e-a8f0-8342bdadc850",
   "metadata": {},
   "outputs": [],
   "source": [
    "import pickle\n",
    "from sklearn.feature_extraction import DictVectorizer"
   ]
  },
  {
   "cell_type": "code",
   "execution_count": 2,
   "id": "39cde5e9-e888-4800-911d-559ab15c629f",
   "metadata": {},
   "outputs": [],
   "source": [
    "# Load the DictVectorizer from dv.bin\n",
    "with open('dv.bin', 'rb') as f_in:\n",
    "    dv = pickle.load(f_in)"
   ]
  },
  {
   "cell_type": "code",
   "execution_count": 3,
   "id": "9cea4350-19e8-4b7b-9494-e121ee278600",
   "metadata": {},
   "outputs": [],
   "source": [
    "# Load the model from model1.bin\n",
    "with open('model1.bin', 'rb') as f_in:\n",
    "    model = pickle.load(f_in)"
   ]
  },
  {
   "cell_type": "code",
   "execution_count": 4,
   "id": "378cf966-0ddd-4b20-b26f-3861e5ca63ea",
   "metadata": {},
   "outputs": [],
   "source": [
    "client = {\"job\": \"management\", \"duration\": 400, \"poutcome\": \"success\"}"
   ]
  },
  {
   "cell_type": "code",
   "execution_count": 5,
   "id": "b2c22e3c-5802-430b-b125-3a823842f379",
   "metadata": {},
   "outputs": [],
   "source": [
    "# turn this customer into a feature matrix\n",
    "X = dv.transform([client])"
   ]
  },
  {
   "cell_type": "code",
   "execution_count": 6,
   "id": "adc20b4a-90b5-4d1b-bc40-a3e6b606c2c3",
   "metadata": {},
   "outputs": [
    {
     "data": {
      "text/plain": [
       "np.float64(0.7590966516879658)"
      ]
     },
     "execution_count": 6,
     "metadata": {},
     "output_type": "execute_result"
    }
   ],
   "source": [
    "# probabilty that this customer churns\n",
    "model.predict_proba(X)[0,1]"
   ]
  },
  {
   "cell_type": "code",
   "execution_count": null,
   "id": "562993bb-d948-4485-989e-6572e88c53f1",
   "metadata": {},
   "outputs": [],
   "source": []
  }
 ],
 "metadata": {
  "kernelspec": {
   "display_name": "Python 3 (ipykernel)",
   "language": "python",
   "name": "python3"
  },
  "language_info": {
   "codemirror_mode": {
    "name": "ipython",
    "version": 3
   },
   "file_extension": ".py",
   "mimetype": "text/x-python",
   "name": "python",
   "nbconvert_exporter": "python",
   "pygments_lexer": "ipython3",
   "version": "3.11.10"
  }
 },
 "nbformat": 4,
 "nbformat_minor": 5
}
